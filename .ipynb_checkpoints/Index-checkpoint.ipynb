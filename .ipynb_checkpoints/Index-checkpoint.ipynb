{
 "cells": [
  {
   "cell_type": "code",
   "execution_count": 1,
   "id": "64edfc41",
   "metadata": {},
   "outputs": [],
   "source": [
    "# pip install --upgrade pip "
   ]
  },
  {
   "cell_type": "code",
   "execution_count": 2,
   "id": "1e672b50",
   "metadata": {},
   "outputs": [],
   "source": [
    "# pip install google-api-python-client"
   ]
  },
  {
   "cell_type": "code",
   "execution_count": 3,
   "id": "56efadea",
   "metadata": {},
   "outputs": [],
   "source": [
    "# pip install prettyprinter\n",
    "# import prettyprinter\n",
    "# pp = pprint.PrettyPrinter(indent=4)"
   ]
  },
  {
   "cell_type": "code",
   "execution_count": 4,
   "id": "55c45357",
   "metadata": {},
   "outputs": [
    {
     "name": "stdout",
     "output_type": "stream",
     "text": [
      "[('UCBHyHIpO3MzU8fiNM3FbFcA',), ('UCJcCB-QYPIBcbKcBQOTwhiA',), ('UCnC8SAZzQiBGYVSKZ_S3y4Q',), ('UCYuQwKOCk8hipEa6uRhyHGQ',)]\n"
     ]
    }
   ],
   "source": [
    "# \n",
    "import main\n",
    "\n",
    "# mf = main.mainfunction()\n",
    "\n",
    "# channelId = input(\"Enter Channel Id for harvesting : \")\n",
    "# mf.executeharvesting(channelId)\n",
    "# print(\"Harvesting completed for this channel (Channel Id : \" + channelId)\n",
    "\n",
    "# channelId = input(\"Enter Channel Id for warhousing : \")\n",
    "# mf.executewarhousing(channelId)\n",
    "# print(\"Warhousing completed for this channel (Channel Id : \" + channelId)\n",
    "\n",
    "print(mf.analysiswarhousedata())"
   ]
  },
  {
   "cell_type": "code",
   "execution_count": 8,
   "id": "f823bce5",
   "metadata": {},
   "outputs": [
    {
     "name": "stdout",
     "output_type": "stream",
     "text": [
      "1\n"
     ]
    }
   ],
   "source": [
    "duration = 'PT1H3M23S'\n",
    "match = re.match(r\"PT(?:(\\d+)H)?(?:(\\d+)M)?(?:(\\d+)S)?\", duration)\n",
    "hours = int(match.group(1) or 0)\n",
    "minutes = int(match.group(2) or 0)\n",
    "seconds = int(match.group(3) or 0)\n",
    "return hours, minutes, seconds"
   ]
  },
  {
   "cell_type": "code",
   "execution_count": null,
   "id": "5c4edce3",
   "metadata": {},
   "outputs": [],
   "source": []
  }
 ],
 "metadata": {
  "kernelspec": {
   "display_name": "Python 3 (ipykernel)",
   "language": "python",
   "name": "python3"
  },
  "language_info": {
   "codemirror_mode": {
    "name": "ipython",
    "version": 3
   },
   "file_extension": ".py",
   "mimetype": "text/x-python",
   "name": "python",
   "nbconvert_exporter": "python",
   "pygments_lexer": "ipython3",
   "version": "3.11.5"
  }
 },
 "nbformat": 4,
 "nbformat_minor": 5
}
